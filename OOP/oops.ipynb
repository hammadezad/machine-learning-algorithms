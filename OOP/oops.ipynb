{
 "cells": [
  {
   "cell_type": "code",
   "execution_count": 1,
   "id": "0e87099e",
   "metadata": {},
   "outputs": [
    {
     "ename": "NameError",
     "evalue": "name 'seller' is not defined",
     "output_type": "error",
     "traceback": [
      "\u001b[1;31m---------------------------------------------------------------------------\u001b[0m",
      "\u001b[1;31mNameError\u001b[0m                                 Traceback (most recent call last)",
      "Cell \u001b[1;32mIn[1], line 1\u001b[0m\n\u001b[1;32m----> 1\u001b[0m \u001b[43mseller\u001b[49m \n",
      "\u001b[1;31mNameError\u001b[0m: name 'seller' is not defined"
     ]
    }
   ],
   "source": [
    "seller \n"
   ]
  },
  {
   "cell_type": "code",
   "execution_count": null,
   "id": "3f6799a5",
   "metadata": {},
   "outputs": [],
   "source": [
    "seller1Name = \"A\"\n",
    "seller1Address = \"ABC\"\n",
    "seller1Money = 123\n"
   ]
  },
  {
   "cell_type": "code",
   "execution_count": null,
   "id": "62dd4516",
   "metadata": {},
   "outputs": [],
   "source": [
    "seller2Name\n",
    "seller2Address\n",
    "seller2Money"
   ]
  },
  {
   "cell_type": "code",
   "execution_count": 2,
   "id": "7de5b9f8",
   "metadata": {},
   "outputs": [],
   "source": [
    "a=5"
   ]
  },
  {
   "cell_type": "code",
   "execution_count": 3,
   "id": "f20175e6",
   "metadata": {},
   "outputs": [
    {
     "name": "stdout",
     "output_type": "stream",
     "text": [
      "<class 'int'>\n"
     ]
    }
   ],
   "source": [
    "print(type(a))"
   ]
  },
  {
   "cell_type": "code",
   "execution_count": 6,
   "id": "ac9e41dc",
   "metadata": {},
   "outputs": [
    {
     "name": "stdout",
     "output_type": "stream",
     "text": [
      "<class 'str'>\n"
     ]
    }
   ],
   "source": [
    "s1 = \"hammad\"\n",
    "print(type(s1))"
   ]
  },
  {
   "cell_type": "code",
   "execution_count": 7,
   "id": "13fe1ce9",
   "metadata": {},
   "outputs": [
    {
     "data": {
      "text/plain": [
       "'Hammad'"
      ]
     },
     "execution_count": 7,
     "metadata": {},
     "output_type": "execute_result"
    }
   ],
   "source": [
    "s1.capitalize()"
   ]
  },
  {
   "cell_type": "markdown",
   "id": "3efb8678",
   "metadata": {},
   "source": [
    "### Class"
   ]
  },
  {
   "cell_type": "code",
   "execution_count": 8,
   "id": "d3b40acf",
   "metadata": {},
   "outputs": [],
   "source": [
    "class car:\n",
    "    pass"
   ]
  },
  {
   "cell_type": "code",
   "execution_count": 9,
   "id": "02b42927",
   "metadata": {},
   "outputs": [
    {
     "data": {
      "text/plain": [
       "__main__.car"
      ]
     },
     "execution_count": 9,
     "metadata": {},
     "output_type": "execute_result"
    }
   ],
   "source": [
    "car"
   ]
  },
  {
   "cell_type": "markdown",
   "id": "effd2c79",
   "metadata": {},
   "source": [
    "## Object"
   ]
  },
  {
   "cell_type": "code",
   "execution_count": 10,
   "id": "a5448bfd",
   "metadata": {},
   "outputs": [],
   "source": [
    "c1 = 3+6j\n",
    "c2= 7 + 5j"
   ]
  },
  {
   "cell_type": "code",
   "execution_count": 11,
   "id": "6d28e75a",
   "metadata": {},
   "outputs": [
    {
     "name": "stdout",
     "output_type": "stream",
     "text": [
      "<class 'complex'> <class 'complex'>\n"
     ]
    }
   ],
   "source": [
    "print(type(c1), type(c2))"
   ]
  },
  {
   "cell_type": "code",
   "execution_count": 85,
   "id": "2d9ed1ff",
   "metadata": {},
   "outputs": [],
   "source": [
    "class student:\n",
    "    numberofstudents=0\n",
    "    def __init__(self, name, rollnumber, marks):\n",
    "        self.name = name\n",
    "        self.rollnumber = rollnumber\n",
    "        self.__marks = marks\n",
    "        self.numberofstudents = student.numberofstudents +1\n",
    "        student.numberofstudents =student.numberofstudents +1\n",
    "    \n",
    "    ## getter\n",
    "    def getMarks(self):\n",
    "        return self.__marks\n",
    "\n",
    "    ## setter\n",
    "    def setmarks(self, newmarks, passcode):\n",
    "        if passcode == \"1234\":\n",
    "            self.__marks = newmarks\n",
    "        else:\n",
    "            return \"Chal Bay\"        \n",
    "\n",
    "    def study(self):\n",
    "        print(\"I am \"+ self.name +\" and I am studuing\")\n",
    "    def play(self):\n",
    "        print(\"I am \"+ self.marks +\" and i will party\")"
   ]
  },
  {
   "cell_type": "code",
   "execution_count": 86,
   "id": "022ad1de",
   "metadata": {},
   "outputs": [],
   "source": [
    "s1 = student(\"Hammad\", \"1\", \"90\")"
   ]
  },
  {
   "cell_type": "code",
   "execution_count": 87,
   "id": "ef785ca3",
   "metadata": {},
   "outputs": [],
   "source": [
    "s1.marks = 45"
   ]
  },
  {
   "cell_type": "code",
   "execution_count": 88,
   "id": "653cbb26",
   "metadata": {},
   "outputs": [
    {
     "data": {
      "text/plain": [
       "'Chal Bay'"
      ]
     },
     "execution_count": 88,
     "metadata": {},
     "output_type": "execute_result"
    }
   ],
   "source": [
    "s1.setmarks(45, 2222)"
   ]
  },
  {
   "cell_type": "code",
   "execution_count": 74,
   "id": "91f64430",
   "metadata": {},
   "outputs": [
    {
     "data": {
      "text/plain": [
       "'1'"
      ]
     },
     "execution_count": 74,
     "metadata": {},
     "output_type": "execute_result"
    }
   ],
   "source": [
    "s1.rollnumber"
   ]
  },
  {
   "cell_type": "code",
   "execution_count": 23,
   "id": "9037d979",
   "metadata": {},
   "outputs": [
    {
     "data": {
      "text/plain": [
       "'90'"
      ]
     },
     "execution_count": 23,
     "metadata": {},
     "output_type": "execute_result"
    }
   ],
   "source": [
    "s1.marks"
   ]
  },
  {
   "cell_type": "code",
   "execution_count": 24,
   "id": "760a61b5",
   "metadata": {},
   "outputs": [
    {
     "name": "stdout",
     "output_type": "stream",
     "text": [
      "I am Hammad and I am studuing\n"
     ]
    }
   ],
   "source": [
    "s1.study()"
   ]
  },
  {
   "cell_type": "code",
   "execution_count": 25,
   "id": "338cd9e7",
   "metadata": {},
   "outputs": [
    {
     "name": "stdout",
     "output_type": "stream",
     "text": [
      "I am 90 and i will party\n"
     ]
    }
   ],
   "source": [
    "s1.play()"
   ]
  },
  {
   "cell_type": "code",
   "execution_count": null,
   "id": "d091bba2",
   "metadata": {},
   "outputs": [],
   "source": []
  },
  {
   "cell_type": "markdown",
   "id": "5f6c5325",
   "metadata": {},
   "source": [
    "#### Complex Number Class\n",
    "\n",
    "- we will create a complex number class where we will "
   ]
  },
  {
   "cell_type": "code",
   "execution_count": 68,
   "id": "f64ae670",
   "metadata": {},
   "outputs": [],
   "source": [
    "class ComplexNumber:\n",
    "    def __init__(self, real=0, imag=0):\n",
    "        self.imag = imag\n",
    "        self.real = real\n",
    "    def __str__(self):\n",
    "        if (self.imag < 0):\n",
    "            s= f\"({self.real} {self.imag}i)\"\n",
    "        else: \n",
    "            s= f\"({self.real} {self.imag}i)\"\n",
    "        return s\n",
    "    def conjugate(self):\n",
    "        imag = self.imag*-1\n",
    "        print(f\"{self.real} + {self.imag}\")\n",
    "    \n"
   ]
  },
  {
   "cell_type": "code",
   "execution_count": 69,
   "id": "8417111f",
   "metadata": {},
   "outputs": [
    {
     "name": "stdout",
     "output_type": "stream",
     "text": [
      "(3 -5i)\n"
     ]
    }
   ],
   "source": [
    "cn = ComplexNumber(3,-5)\n",
    "print(cn)"
   ]
  },
  {
   "cell_type": "code",
   "execution_count": 58,
   "id": "893a2d8f",
   "metadata": {},
   "outputs": [
    {
     "data": {
      "text/plain": [
       "(3, 5)"
      ]
     },
     "execution_count": 58,
     "metadata": {},
     "output_type": "execute_result"
    }
   ],
   "source": [
    "cn.real, cn.imag"
   ]
  },
  {
   "cell_type": "markdown",
   "id": "4c1dff53",
   "metadata": {},
   "source": [
    "## Inheritance"
   ]
  },
  {
   "cell_type": "code",
   "execution_count": 89,
   "id": "29fc1c4e",
   "metadata": {},
   "outputs": [],
   "source": [
    "class User:\n",
    "    def __init__(self, name, id):\n",
    "        self.name = name\n",
    "        self.id = id\n",
    "    def login():\n",
    "        print(\"logged in\")\n",
    "    def logout():\n",
    "        print(\"logged out\")\n"
   ]
  },
  {
   "cell_type": "code",
   "execution_count": 90,
   "id": "e4dc6ac0",
   "metadata": {},
   "outputs": [],
   "source": [
    "class student(User):\n",
    "    pass"
   ]
  },
  {
   "cell_type": "code",
   "execution_count": null,
   "id": "e248ccb6",
   "metadata": {},
   "outputs": [],
   "source": []
  }
 ],
 "metadata": {
  "kernelspec": {
   "display_name": "Python 3",
   "language": "python",
   "name": "python3"
  },
  "language_info": {
   "codemirror_mode": {
    "name": "ipython",
    "version": 3
   },
   "file_extension": ".py",
   "mimetype": "text/x-python",
   "name": "python",
   "nbconvert_exporter": "python",
   "pygments_lexer": "ipython3",
   "version": "3.12.6"
  }
 },
 "nbformat": 4,
 "nbformat_minor": 5
}
